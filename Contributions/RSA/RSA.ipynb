{
 "cells": [
  {
   "cell_type": "code",
   "execution_count": 2,
   "source": [
    "import better_random as random\r\n",
    "from random import randrange, randint"
   ],
   "outputs": [],
   "metadata": {
    "collapsed": false,
    "pycharm": {
     "name": "#%%\n"
    }
   }
  },
  {
   "cell_type": "code",
   "execution_count": 3,
   "source": [
    "def egcd(a, b):\r\n",
    "    s = 0; old_s = 1\r\n",
    "    t = 1; old_t = 0\r\n",
    "    r = b; old_r = a\r\n",
    "\r\n",
    "    while r != 0:\r\n",
    "        qoutient = old_r // r\r\n",
    "        old_r, r = r, old_r - qoutient * r\r\n",
    "        old_s, s = s, old_s - qoutient * s\r\n",
    "        old_t, t = t, old_t - qoutient * t\r\n",
    "\r\n",
    "    return  old_r, old_s, old_t"
   ],
   "outputs": [],
   "metadata": {
    "collapsed": false,
    "pycharm": {
     "name": "#%%\n"
    }
   }
  },
  {
   "cell_type": "code",
   "execution_count": 4,
   "source": [
    "def rabinMiller(n, d):\r\n",
    "    a = randint(2, (n - 2) - 2)\r\n",
    "        # randrange(2, (n - 2))\r\n",
    "    x = pow(a, int(d), n) # a^d%n\r\n",
    "    if x == 1 or x == n - 1:\r\n",
    "        return True\r\n",
    "\r\n",
    "    # squarex\r\n",
    "    while d != n - 1:\r\n",
    "        x = pow(x, 2, n)\r\n",
    "        d *= 2\r\n",
    "\r\n",
    "        if x == 1:\r\n",
    "            return False\r\n",
    "        elif x == n - 1:\r\n",
    "            return True\r\n",
    "\r\n",
    "\r\n",
    "    return False"
   ],
   "outputs": [],
   "metadata": {
    "collapsed": false,
    "pycharm": {
     "name": "#%%\n"
    }
   }
  },
  {
   "cell_type": "code",
   "execution_count": 5,
   "source": [
    "from util import lowPrimes\r\n",
    "def isPrime(n):\r\n",
    "    \"\"\"\r\n",
    "    return True if n Prime\r\n",
    "    fall back to rabin if uncertain\r\n",
    "    \"\"\"\r\n",
    "    # 0, 1, negative numbers\r\n",
    "    if n < 2:\r\n",
    "        return False\r\n",
    "\r\n",
    "    # low primes -> array to save time\r\n",
    "    lowPrimes = [2, 3, 5, 7, 11, 13, 17, 19, 23, 29, 31, 37, 41, 43, 47, 53, 59, 61, 67, 71, 73, 79, 83, 89, 97, 101, 103, 107, 109, 113, 127, 131, 137, 139, 149, 151, 157, 163, 167, 173, 179, 181, 191, 193, 197, 199, 211, 223, 227, 229, 233, 239, 241, 251, 257, 263, 269, 271, 277, 281, 283, 293, 307, 311, 313, 317, 331, 337, 347, 349, 353, 359, 367, 373, 379, 383, 389, 397, 401, 409, 419, 421, 431, 433, 439, 443, 449, 457, 461, 463, 467, 479, 487, 491, 499, 503, 509, 521, 523, 541, 547, 557, 563, 569, 571, 577, 587, 593, 599, 601, 607, 613, 617, 619, 631, 641, 643, 647, 653, 659, 661, 673, 677, 683, 691, 701, 709, 719, 727, 733, 739, 743, 751, 757, 761, 769, 773, 787, 797, 809, 811, 821, 823, 827, 829, 839, 853, 857, 859, 863, 877, 881, 883, 887, 907, 911, 919, 929, 937, 941, 947, 953, 967, 971, 977, 983, 991, 997]\r\n",
    "\r\n",
    "    if n in lowPrimes:\r\n",
    "\r\n",
    "        return True\r\n",
    "\r\n",
    "    for prime in lowPrimes:\r\n",
    "        if n % prime == 0:\r\n",
    "            return False\r\n",
    "\r\n",
    "    # Let c * 2 ^ r = n - 1\r\n",
    "    c = n - 1 # c % 2 == 0 ∴ ¬ (n % 2)\r\n",
    "    while c % 2 == 0:\r\n",
    "        c /= 2\r\n",
    "\r\n",
    "    # prove not prim 128 times\r\n",
    "    for i in range(128):\r\n",
    "        if not rabinMiller(n , c):\r\n",
    "            return False\r\n",
    "    return True"
   ],
   "outputs": [],
   "metadata": {
    "collapsed": false,
    "pycharm": {
     "name": "#%%\n"
    }
   }
  },
  {
   "cell_type": "code",
   "execution_count": 6,
   "source": [
    "def genKeys(keysize=1024):\r\n",
    "    e = d = N = 0\r\n",
    "\r\n",
    "    # get prime numbers, p & q\r\n",
    "    p = genLargePrimes(keysize)\r\n",
    "    q = genLargePrimes(keysize)\r\n",
    "\r\n",
    "    N = p * q\r\n",
    "    phiN = (p - 1) * (q - 1)\r\n",
    "\r\n",
    "    while True:\r\n",
    "        e = random.read_random_odd_int(keysize)\r\n",
    "        if (isCoPrime(e, phiN)):\r\n",
    "            break\r\n",
    "\r\n",
    "    d = modularInverse(e, phiN)\r\n",
    "    return e, d, N"
   ],
   "outputs": [],
   "metadata": {
    "collapsed": false,
    "pycharm": {
     "name": "#%%\n"
    }
   }
  },
  {
   "cell_type": "code",
   "execution_count": 7,
   "source": [
    "def genLargePrimes(keysize=1024):\r\n",
    "    \"\"\"\r\n",
    "    random Primenumber of size bits size\r\n",
    "    \"\"\"\r\n",
    "    assert keysize > 3  # the loop wil hang on too small numbers\r\n",
    "\r\n",
    "    while True:\r\n",
    "        integer = random.read_random_odd_int(keysize)\r\n",
    "\r\n",
    "        # Test for primeness\r\n",
    "        if isPrime(integer):\r\n",
    "            return integer\r\n"
   ],
   "outputs": [],
   "metadata": {
    "collapsed": false,
    "pycharm": {
     "name": "#%%\n"
    }
   }
  },
  {
   "cell_type": "code",
   "execution_count": 8,
   "source": [
    "def isCoPrime(p, q):\r\n",
    "    \"\"\"\r\n",
    "        return True if gcd(p, q) == 1\r\n",
    "\r\n",
    "    \"\"\"\r\n",
    "    return gcd(p, q) == 1"
   ],
   "outputs": [],
   "metadata": {
    "collapsed": false,
    "pycharm": {
     "name": "#%%\n"
    }
   }
  },
  {
   "cell_type": "code",
   "execution_count": 9,
   "source": [
    "def gcd(p, q):\r\n",
    "    \"\"\"\r\n",
    "    euclidean algorithm to find greadest common denomiator of p and q\r\n",
    "    \"\"\"\r\n",
    "    while q  != 0:\r\n",
    "        p, q = q, p % q\r\n",
    "    return p\r\n",
    "\r\n"
   ],
   "outputs": [],
   "metadata": {
    "collapsed": false,
    "pycharm": {
     "name": "#%%\n"
    }
   }
  },
  {
   "cell_type": "code",
   "execution_count": 10,
   "source": [
    "def modularInverse(a,  b):\r\n",
    "    gcd, x, y = egcd(a ,b)\r\n",
    "\r\n",
    "    if x < 0:\r\n",
    "        x += b\r\n",
    "    return  x\r\n"
   ],
   "outputs": [],
   "metadata": {
    "collapsed": false,
    "pycharm": {
     "name": "#%%\n"
    }
   }
  },
  {
   "cell_type": "code",
   "execution_count": 11,
   "source": [
    "def encrypt(e, N, msg):\r\n",
    "    cipher  = \"\"\r\n",
    "\r\n",
    "    for c in msg:\r\n",
    "        m = ord(c)\r\n",
    "        cipher += str(pow(m, e, N)) + \" \"\r\n",
    "\r\n",
    "    return cipher"
   ],
   "outputs": [],
   "metadata": {
    "collapsed": false,
    "pycharm": {
     "name": "#%%\n"
    }
   }
  },
  {
   "cell_type": "code",
   "execution_count": 12,
   "source": [
    "def decrypt(d, N, cipher):\r\n",
    "    msg = \"\"\r\n",
    "\r\n",
    "    parts = cipher.split()\r\n",
    "    for part in parts:\r\n",
    "        if part:\r\n",
    "            c = int(part)\r\n",
    "            msg += chr(pow(c, d, N))\r\n",
    "\r\n",
    "\r\n",
    "    return msg"
   ],
   "outputs": [],
   "metadata": {
    "collapsed": false,
    "pycharm": {
     "name": "#%%\n"
    }
   }
  },
  {
   "cell_type": "code",
   "execution_count": 17,
   "source": [
    "\r\n",
    "def main():\r\n",
    "\r\n",
    "    size = 32\r\n",
    "\r\n",
    "    e, d, N = genKeys(size)\r\n",
    "\r\n",
    "    msg = \"Henning\"\r\n",
    "\r\n",
    "    enc = encrypt(e, N, msg)\r\n",
    "    dec = decrypt(d, N, enc)\r\n",
    "\r\n",
    "    print(f\"Message: {msg}\")\r\n",
    "    print(f\"e: {e}\")\r\n",
    "    print(f\"d: {d}\")\r\n",
    "    print(f\"N: {N}\")\r\n",
    "    print(f\"enc: {enc}\")\r\n",
    "    print(f\"dec: {dec}\")\r\n",
    "\r\n",
    "main()"
   ],
   "outputs": [
    {
     "output_type": "stream",
     "name": "stdout",
     "text": [
      "Message: Henning\n",
      "e: 3230534953\n",
      "d: 4444005873745778617\n",
      "N: 7899660768928845613\n",
      "enc: 2542245359358281450 2662397039113166091 1825846036200895179 1825846036200895179 5845523820905903193 1825846036200895179 1096938193814338390 \n",
      "dec: Henning\n"
     ]
    }
   ],
   "metadata": {}
  }
 ],
 "metadata": {
  "kernelspec": {
   "name": "python3",
   "display_name": "Python 3.9.5 64-bit ('base': conda)"
  },
  "language_info": {
   "name": "python",
   "version": "3.9.5",
   "mimetype": "text/x-python",
   "codemirror_mode": {
    "name": "ipython",
    "version": 3
   },
   "pygments_lexer": "ipython3",
   "nbconvert_exporter": "python",
   "file_extension": ".py"
  },
  "interpreter": {
   "hash": "4027ca128314f0934baf909c0284bda7e216e86a2c1240dfac438e4b123903f8"
  }
 },
 "nbformat": 4,
 "nbformat_minor": 2
}