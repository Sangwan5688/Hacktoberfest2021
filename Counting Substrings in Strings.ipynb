{
 "cells": [
  {
   "cell_type": "code",
   "execution_count": null,
   "id": "d53300fd",
   "metadata": {},
   "outputs": [],
   "source": [
    "def count_substring(string, sub_string):                   #Creating a function named Count_String ,which takes the input of string and substring\n",
    "    p=len(sub_string)                                      #Storig the length of string in a variable called p\n",
    "    count=0                                                #Counter setting to zero\n",
    "    for i in range(len(string)):                           #For loop for itterating through list\n",
    "        if string[i:p+i]==sub_string:                      #Condition\n",
    "            count=count+1                                  #If condition meet then incrementing the counter\n",
    "    return count                                           #Returning count\n",
    "\n",
    "if __name__ == '__main__':   \n",
    "    string = input().strip()                               #Taking input \n",
    "    sub_string = input().strip()                           #Taking input sub_string\n",
    "    count = count_substring(string, sub_string)            #Calling the function\n",
    "    print(count)                                           #Printing Count"
   ]
  }
 ],
 "metadata": {
  "kernelspec": {
   "display_name": "Python 3",
   "language": "python",
   "name": "python3"
  },
  "language_info": {
   "codemirror_mode": {
    "name": "ipython",
    "version": 3
   },
   "file_extension": ".py",
   "mimetype": "text/x-python",
   "name": "python",
   "nbconvert_exporter": "python",
   "pygments_lexer": "ipython3",
   "version": "3.8.8"
  }
 },
 "nbformat": 4,
 "nbformat_minor": 5
}
